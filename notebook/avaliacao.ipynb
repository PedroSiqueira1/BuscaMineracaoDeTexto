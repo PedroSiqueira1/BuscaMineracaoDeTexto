{
 "cells": [
  {
   "cell_type": "markdown",
   "metadata": {},
   "source": [
    "# 11 Pontos de Precisão e Recall"
   ]
  },
  {
   "cell_type": "code",
   "execution_count": 1,
   "metadata": {},
   "outputs": [
    {
     "name": "stderr",
     "output_type": "stream",
     "text": [
      "C:\\Users\\a239277\\AppData\\Local\\Temp\\ipykernel_25444\\2151744951.py:1: DeprecationWarning: \n",
      "Pyarrow will become a required dependency of pandas in the next major release of pandas (pandas 3.0),\n",
      "(to allow more performant data types, such as the Arrow string type, and better interoperability with other libraries)\n",
      "but was not found to be installed on your system.\n",
      "If this would cause problems for you,\n",
      "please provide us feedback at https://github.com/pandas-dev/pandas/issues/54466\n",
      "        \n",
      "  import pandas as pd\n"
     ]
    }
   ],
   "source": [
    "import pandas as pd\n",
    "import numpy as np\n",
    "import matplotlib.pyplot as plt"
   ]
  },
  {
   "cell_type": "code",
   "execution_count": 2,
   "metadata": {},
   "outputs": [
    {
     "data": {
      "text/html": [
       "<div>\n",
       "<style scoped>\n",
       "    .dataframe tbody tr th:only-of-type {\n",
       "        vertical-align: middle;\n",
       "    }\n",
       "\n",
       "    .dataframe tbody tr th {\n",
       "        vertical-align: top;\n",
       "    }\n",
       "\n",
       "    .dataframe thead th {\n",
       "        text-align: right;\n",
       "    }\n",
       "</style>\n",
       "<table border=\"1\" class=\"dataframe\">\n",
       "  <thead>\n",
       "    <tr style=\"text-align: right;\">\n",
       "      <th></th>\n",
       "      <th>QueryNumber</th>\n",
       "      <th>Position</th>\n",
       "      <th>DocNumber</th>\n",
       "      <th>Relevance</th>\n",
       "    </tr>\n",
       "  </thead>\n",
       "  <tbody>\n",
       "    <tr>\n",
       "      <th>0</th>\n",
       "      <td>1</td>\n",
       "      <td>1.0</td>\n",
       "      <td>40</td>\n",
       "      <td>0.07736125211124294</td>\n",
       "    </tr>\n",
       "    <tr>\n",
       "      <th>1</th>\n",
       "      <td>1</td>\n",
       "      <td>2.0</td>\n",
       "      <td>971</td>\n",
       "      <td>0.050234117172333045</td>\n",
       "    </tr>\n",
       "    <tr>\n",
       "      <th>2</th>\n",
       "      <td>1</td>\n",
       "      <td>3.0</td>\n",
       "      <td>302</td>\n",
       "      <td>0.047962021158067886</td>\n",
       "    </tr>\n",
       "    <tr>\n",
       "      <th>3</th>\n",
       "      <td>1</td>\n",
       "      <td>4.0</td>\n",
       "      <td>1188</td>\n",
       "      <td>0.046768682198753596</td>\n",
       "    </tr>\n",
       "    <tr>\n",
       "      <th>4</th>\n",
       "      <td>1</td>\n",
       "      <td>5.0</td>\n",
       "      <td>392</td>\n",
       "      <td>0.046238516757099904</td>\n",
       "    </tr>\n",
       "    <tr>\n",
       "      <th>...</th>\n",
       "      <td>...</td>\n",
       "      <td>...</td>\n",
       "      <td>...</td>\n",
       "      <td>...</td>\n",
       "    </tr>\n",
       "    <tr>\n",
       "      <th>120280</th>\n",
       "      <td>100</td>\n",
       "      <td>1211.0</td>\n",
       "      <td>1230</td>\n",
       "      <td>0.0008328031501789552</td>\n",
       "    </tr>\n",
       "    <tr>\n",
       "      <th>120281</th>\n",
       "      <td>100</td>\n",
       "      <td>1212.0</td>\n",
       "      <td>974</td>\n",
       "      <td>0.0005873420398677124</td>\n",
       "    </tr>\n",
       "    <tr>\n",
       "      <th>120282</th>\n",
       "      <td>100</td>\n",
       "      <td>1213.0</td>\n",
       "      <td>948</td>\n",
       "      <td>0.0005235496427597196</td>\n",
       "    </tr>\n",
       "    <tr>\n",
       "      <th>120283</th>\n",
       "      <td>100</td>\n",
       "      <td>1214.0</td>\n",
       "      <td>940</td>\n",
       "      <td>0.0004357997398344579</td>\n",
       "    </tr>\n",
       "    <tr>\n",
       "      <th>120284</th>\n",
       "      <td>100</td>\n",
       "      <td>1215.0</td>\n",
       "      <td>1018</td>\n",
       "      <td>0.0</td>\n",
       "    </tr>\n",
       "  </tbody>\n",
       "</table>\n",
       "<p>120285 rows × 4 columns</p>\n",
       "</div>"
      ],
      "text/plain": [
       "        QueryNumber Position DocNumber              Relevance\n",
       "0                 1      1.0        40    0.07736125211124294\n",
       "1                 1      2.0       971   0.050234117172333045\n",
       "2                 1      3.0       302   0.047962021158067886\n",
       "3                 1      4.0      1188   0.046768682198753596\n",
       "4                 1      5.0       392   0.046238516757099904\n",
       "...             ...      ...       ...                    ...\n",
       "120280          100   1211.0      1230  0.0008328031501789552\n",
       "120281          100   1212.0       974  0.0005873420398677124\n",
       "120282          100   1213.0       948  0.0005235496427597196\n",
       "120283          100   1214.0       940  0.0004357997398344579\n",
       "120284          100   1215.0      1018                    0.0\n",
       "\n",
       "[120285 rows x 4 columns]"
      ]
     },
     "execution_count": 2,
     "metadata": {},
     "output_type": "execute_result"
    }
   ],
   "source": [
    "result = pd.read_csv('../resultados_sem_stemmer/RESULTADOS-NOSTEMMER.csv', sep=';')\n",
    "result['Position'] = result['Results'].str.split(', ', expand=True)[0].str[1:]\n",
    "result['DocNumber'] = result['Results'].str.split(', ', expand=True)[1]\n",
    "result['Relevance'] = result['Results'].str.split(', ', expand=True)[2].str[:-1]\n",
    "result.drop(columns=['Results'], inplace=True)\n",
    "result"
   ]
  },
  {
   "cell_type": "code",
   "execution_count": 3,
   "metadata": {},
   "outputs": [
    {
     "data": {
      "text/html": [
       "<div>\n",
       "<style scoped>\n",
       "    .dataframe tbody tr th:only-of-type {\n",
       "        vertical-align: middle;\n",
       "    }\n",
       "\n",
       "    .dataframe tbody tr th {\n",
       "        vertical-align: top;\n",
       "    }\n",
       "\n",
       "    .dataframe thead th {\n",
       "        text-align: right;\n",
       "    }\n",
       "</style>\n",
       "<table border=\"1\" class=\"dataframe\">\n",
       "  <thead>\n",
       "    <tr style=\"text-align: right;\">\n",
       "      <th></th>\n",
       "      <th>QueryNumber</th>\n",
       "      <th>Position</th>\n",
       "      <th>DocNumber</th>\n",
       "      <th>Relevance</th>\n",
       "    </tr>\n",
       "  </thead>\n",
       "  <tbody>\n",
       "    <tr>\n",
       "      <th>0</th>\n",
       "      <td>1</td>\n",
       "      <td>1.0</td>\n",
       "      <td>40</td>\n",
       "      <td>0.07565648960798238</td>\n",
       "    </tr>\n",
       "    <tr>\n",
       "      <th>1</th>\n",
       "      <td>1</td>\n",
       "      <td>2.0</td>\n",
       "      <td>971</td>\n",
       "      <td>0.048856105525199256</td>\n",
       "    </tr>\n",
       "    <tr>\n",
       "      <th>2</th>\n",
       "      <td>1</td>\n",
       "      <td>3.0</td>\n",
       "      <td>392</td>\n",
       "      <td>0.04711830903336669</td>\n",
       "    </tr>\n",
       "    <tr>\n",
       "      <th>3</th>\n",
       "      <td>1</td>\n",
       "      <td>4.0</td>\n",
       "      <td>1026</td>\n",
       "      <td>0.04371218236054627</td>\n",
       "    </tr>\n",
       "    <tr>\n",
       "      <th>4</th>\n",
       "      <td>1</td>\n",
       "      <td>5.0</td>\n",
       "      <td>302</td>\n",
       "      <td>0.043700336931355756</td>\n",
       "    </tr>\n",
       "    <tr>\n",
       "      <th>...</th>\n",
       "      <td>...</td>\n",
       "      <td>...</td>\n",
       "      <td>...</td>\n",
       "      <td>...</td>\n",
       "    </tr>\n",
       "    <tr>\n",
       "      <th>120280</th>\n",
       "      <td>100</td>\n",
       "      <td>1211.0</td>\n",
       "      <td>547</td>\n",
       "      <td>0.0008780403865268196</td>\n",
       "    </tr>\n",
       "    <tr>\n",
       "      <th>120281</th>\n",
       "      <td>100</td>\n",
       "      <td>1212.0</td>\n",
       "      <td>1230</td>\n",
       "      <td>0.0008363791324622214</td>\n",
       "    </tr>\n",
       "    <tr>\n",
       "      <th>120282</th>\n",
       "      <td>100</td>\n",
       "      <td>1213.0</td>\n",
       "      <td>974</td>\n",
       "      <td>0.0005898640340848728</td>\n",
       "    </tr>\n",
       "    <tr>\n",
       "      <th>120283</th>\n",
       "      <td>100</td>\n",
       "      <td>1214.0</td>\n",
       "      <td>948</td>\n",
       "      <td>0.0005257977181260492</td>\n",
       "    </tr>\n",
       "    <tr>\n",
       "      <th>120284</th>\n",
       "      <td>100</td>\n",
       "      <td>1215.0</td>\n",
       "      <td>940</td>\n",
       "      <td>0.00043767102496151955</td>\n",
       "    </tr>\n",
       "  </tbody>\n",
       "</table>\n",
       "<p>120285 rows × 4 columns</p>\n",
       "</div>"
      ],
      "text/plain": [
       "        QueryNumber Position DocNumber               Relevance\n",
       "0                 1      1.0        40     0.07565648960798238\n",
       "1                 1      2.0       971    0.048856105525199256\n",
       "2                 1      3.0       392     0.04711830903336669\n",
       "3                 1      4.0      1026     0.04371218236054627\n",
       "4                 1      5.0       302    0.043700336931355756\n",
       "...             ...      ...       ...                     ...\n",
       "120280          100   1211.0       547   0.0008780403865268196\n",
       "120281          100   1212.0      1230   0.0008363791324622214\n",
       "120282          100   1213.0       974   0.0005898640340848728\n",
       "120283          100   1214.0       948   0.0005257977181260492\n",
       "120284          100   1215.0       940  0.00043767102496151955\n",
       "\n",
       "[120285 rows x 4 columns]"
      ]
     },
     "execution_count": 3,
     "metadata": {},
     "output_type": "execute_result"
    }
   ],
   "source": [
    "result_stemmer = pd.read_csv('../resultados_com_stemmer/RESULTADOS-STEMMER.csv', sep=';')\n",
    "result_stemmer['Position'] = result_stemmer['Results'].str.split(', ', expand=True)[0].str[1:]\n",
    "result_stemmer['DocNumber'] = result_stemmer['Results'].str.split(', ', expand=True)[1]\n",
    "result_stemmer['Relevance'] = result_stemmer['Results'].str.split(', ', expand=True)[2].str[:-1]\n",
    "result_stemmer.drop(columns=['Results'], inplace=True)\n",
    "result_stemmer"
   ]
  },
  {
   "cell_type": "code",
   "execution_count": 28,
   "metadata": {},
   "outputs": [
    {
     "data": {
      "text/html": [
       "<div>\n",
       "<style scoped>\n",
       "    .dataframe tbody tr th:only-of-type {\n",
       "        vertical-align: middle;\n",
       "    }\n",
       "\n",
       "    .dataframe tbody tr th {\n",
       "        vertical-align: top;\n",
       "    }\n",
       "\n",
       "    .dataframe thead th {\n",
       "        text-align: right;\n",
       "    }\n",
       "</style>\n",
       "<table border=\"1\" class=\"dataframe\">\n",
       "  <thead>\n",
       "    <tr style=\"text-align: right;\">\n",
       "      <th></th>\n",
       "      <th>QueryNumber</th>\n",
       "      <th>DocNumber</th>\n",
       "      <th>DocVotes</th>\n",
       "      <th>Relevance</th>\n",
       "    </tr>\n",
       "  </thead>\n",
       "  <tbody>\n",
       "    <tr>\n",
       "      <th>0</th>\n",
       "      <td>1</td>\n",
       "      <td>139</td>\n",
       "      <td>7</td>\n",
       "      <td>0.875</td>\n",
       "    </tr>\n",
       "    <tr>\n",
       "      <th>1</th>\n",
       "      <td>1</td>\n",
       "      <td>151</td>\n",
       "      <td>6</td>\n",
       "      <td>0.750</td>\n",
       "    </tr>\n",
       "    <tr>\n",
       "      <th>2</th>\n",
       "      <td>1</td>\n",
       "      <td>166</td>\n",
       "      <td>1</td>\n",
       "      <td>0.125</td>\n",
       "    </tr>\n",
       "    <tr>\n",
       "      <th>3</th>\n",
       "      <td>1</td>\n",
       "      <td>311</td>\n",
       "      <td>1</td>\n",
       "      <td>0.125</td>\n",
       "    </tr>\n",
       "    <tr>\n",
       "      <th>4</th>\n",
       "      <td>1</td>\n",
       "      <td>370</td>\n",
       "      <td>2</td>\n",
       "      <td>0.250</td>\n",
       "    </tr>\n",
       "    <tr>\n",
       "      <th>...</th>\n",
       "      <td>...</td>\n",
       "      <td>...</td>\n",
       "      <td>...</td>\n",
       "      <td>...</td>\n",
       "    </tr>\n",
       "    <tr>\n",
       "      <th>4815</th>\n",
       "      <td>100</td>\n",
       "      <td>1000</td>\n",
       "      <td>6</td>\n",
       "      <td>0.750</td>\n",
       "    </tr>\n",
       "    <tr>\n",
       "      <th>4816</th>\n",
       "      <td>100</td>\n",
       "      <td>1017</td>\n",
       "      <td>7</td>\n",
       "      <td>0.875</td>\n",
       "    </tr>\n",
       "    <tr>\n",
       "      <th>4817</th>\n",
       "      <td>100</td>\n",
       "      <td>1033</td>\n",
       "      <td>1</td>\n",
       "      <td>0.125</td>\n",
       "    </tr>\n",
       "    <tr>\n",
       "      <th>4818</th>\n",
       "      <td>100</td>\n",
       "      <td>1097</td>\n",
       "      <td>2</td>\n",
       "      <td>0.250</td>\n",
       "    </tr>\n",
       "    <tr>\n",
       "      <th>4819</th>\n",
       "      <td>100</td>\n",
       "      <td>1232</td>\n",
       "      <td>2</td>\n",
       "      <td>0.250</td>\n",
       "    </tr>\n",
       "  </tbody>\n",
       "</table>\n",
       "<p>4820 rows × 4 columns</p>\n",
       "</div>"
      ],
      "text/plain": [
       "      QueryNumber  DocNumber  DocVotes  Relevance\n",
       "0               1        139         7      0.875\n",
       "1               1        151         6      0.750\n",
       "2               1        166         1      0.125\n",
       "3               1        311         1      0.125\n",
       "4               1        370         2      0.250\n",
       "...           ...        ...       ...        ...\n",
       "4815          100       1000         6      0.750\n",
       "4816          100       1017         7      0.875\n",
       "4817          100       1033         1      0.125\n",
       "4818          100       1097         2      0.250\n",
       "4819          100       1232         2      0.250\n",
       "\n",
       "[4820 rows x 4 columns]"
      ]
     },
     "execution_count": 28,
     "metadata": {},
     "output_type": "execute_result"
    }
   ],
   "source": [
    "esperados = pd.read_csv('../resultados_sem_stemmer/esperados.csv', sep=';')\n",
    "esperados['Relevance'] = esperados['DocVotes']/8\n",
    "esperados"
   ]
  },
  {
   "cell_type": "markdown",
   "metadata": {},
   "source": [
    "## NoStemmer and Stemmer"
   ]
  },
  {
   "cell_type": "code",
   "execution_count": 5,
   "metadata": {},
   "outputs": [],
   "source": [
    "def precision_recall(stemmer):\n",
    "\n",
    "\n",
    "    queries = esperados['QueryNumber'].unique()\n",
    "    precision = {}\n",
    "    recall = {}\n",
    "\n",
    "    for i in range(11):\n",
    "        precision[i] = []\n",
    "        recall[i] = []\n",
    "\n",
    "    if stemmer == False:\n",
    "\n",
    "        for query in queries:\n",
    "            relevant_documents = esperados[esperados['QueryNumber'] == query]['DocNumber']\n",
    "            results = result[result['QueryNumber'] == query]['DocNumber']\n",
    "            for i in range(11):\n",
    "                results_until_i = results[:(i+1)*len(results)//11].astype(int)\n",
    "                same_elements = np.intersect1d(relevant_documents, results_until_i)\n",
    "            \n",
    "                precision[i].append(len(same_elements)/len(results_until_i))\n",
    "                recall[i].append(len(same_elements)/len(relevant_documents))\n",
    "    else: \n",
    "        \n",
    "        for query in queries:\n",
    "            relevant_documents = esperados[esperados['QueryNumber'] == query]['DocNumber']\n",
    "            results = result_stemmer[result_stemmer['QueryNumber'] == query]['DocNumber']\n",
    "            for i in range(11):\n",
    "                results_until_i = results[:(i+1)*len(results)//11].astype(int)\n",
    "                same_elements = np.intersect1d(relevant_documents, results_until_i)\n",
    "            \n",
    "                precision[i].append(len(same_elements)/len(results_until_i))\n",
    "                recall[i].append(len(same_elements)/len(relevant_documents))\n",
    "\n",
    "    # Calculate mean precision and recall\n",
    "    mean_precision = {}\n",
    "    mean_recall = {}\n",
    "\n",
    "    for i in range(11):\n",
    "        mean_precision[i] = np.mean(precision[i])\n",
    "        mean_recall[i] = np.mean(recall[i])\n",
    "\n",
    "\n",
    "    # Plot precision x recall\n",
    "    plt.scatter(mean_recall.values(), mean_precision.values())\n",
    "    plt.title('Gráfico de 11 pontos de precisão e recall')\n",
    "    plt.xlabel('Recall')\n",
    "    plt.ylabel('Precision')\n",
    "    plt.show()"
   ]
  },
  {
   "cell_type": "code",
   "execution_count": 6,
   "metadata": {},
   "outputs": [
    {
     "data": {
      "image/png": "[encoded data removed]",
      "text/plain": [
       "<Figure size 640x480 with 1 Axes>"
      ]
     },
     "metadata": {},
     "output_type": "display_data"
    }
   ],
   "source": [
    "precision_recall(stemmer=True)"
   ]
  },
  {
   "cell_type": "code",
   "execution_count": 7,
   "metadata": {},
   "outputs": [
    {
     "data": {
      "image/png": "[encoded data removed]",
      "text/plain": [
       "<Figure size 640x480 with 1 Axes>"
      ]
     },
     "metadata": {},
     "output_type": "display_data"
    }
   ],
   "source": [
    "precision_recall(stemmer=False)"
   ]
  },
  {
   "cell_type": "markdown",
   "metadata": {},
   "source": [
    "# F1 Score - Até o 10° documento encontrado"
   ]
  },
  {
   "cell_type": "code",
   "execution_count": 8,
   "metadata": {},
   "outputs": [],
   "source": [
    "def f1_score(stemmer):\n",
    "    queries = esperados['QueryNumber'].unique()\n",
    "    precision = []\n",
    "    recall = []\n",
    "    for query in queries:\n",
    "        relevant_documents = esperados[esperados['QueryNumber'] == query]['DocNumber']\n",
    "        if stemmer == False:\n",
    "            best_results = result[result['QueryNumber'] == query]['DocNumber'][:10].astype(int)\n",
    "        else:\n",
    "            best_results = result_stemmer[result_stemmer['QueryNumber'] == query]['DocNumber'][:10].astype(int)\n",
    "        same_elements = np.intersect1d(relevant_documents, best_results)\n",
    "        precision.append(len(same_elements)/len(best_results))\n",
    "        recall.append(len(same_elements)/len(relevant_documents))\n",
    "\n",
    "    mean_precision = np.mean(precision)\n",
    "    mean_recall = np.mean(recall)\n",
    "\n",
    "    f1 = 2 * (mean_precision * mean_recall) / (mean_precision + mean_recall)\n",
    "    return f1"
   ]
  },
  {
   "cell_type": "code",
   "execution_count": 9,
   "metadata": {},
   "outputs": [
    {
     "data": {
      "text/plain": [
       "0.14602747503622696"
      ]
     },
     "execution_count": 9,
     "metadata": {},
     "output_type": "execute_result"
    }
   ],
   "source": [
    "f1_score(stemmer=False)"
   ]
  },
  {
   "cell_type": "code",
   "execution_count": 10,
   "metadata": {},
   "outputs": [
    {
     "data": {
      "text/plain": [
       "0.1606587444569522"
      ]
     },
     "execution_count": 10,
     "metadata": {},
     "output_type": "execute_result"
    }
   ],
   "source": [
    "f1_score(stemmer=True)"
   ]
  },
  {
   "cell_type": "markdown",
   "metadata": {},
   "source": [
    "# Precision at 5"
   ]
  },
  {
   "cell_type": "code",
   "execution_count": 11,
   "metadata": {},
   "outputs": [],
   "source": [
    "def precision_at_5(stemmer):\n",
    "    queries = esperados['QueryNumber'].unique()\n",
    "    precision = []\n",
    "    for query in queries:\n",
    "        relevant_documents = esperados[esperados['QueryNumber'] == query]['DocNumber']\n",
    "        if stemmer == False:\n",
    "            best_results = result[result['QueryNumber'] == query]['DocNumber'][:5].astype(int)\n",
    "        else:\n",
    "            best_results = result_stemmer[result_stemmer['QueryNumber'] == query]['DocNumber'][:5].astype(int)\n",
    "        same_elements = np.intersect1d(relevant_documents, best_results)\n",
    "        precision.append(len(same_elements)/len(best_results))\n",
    "\n",
    "    mean_precision = np.mean(precision)\n",
    "\n",
    "    return mean_precision"
   ]
  },
  {
   "cell_type": "code",
   "execution_count": 12,
   "metadata": {},
   "outputs": [
    {
     "data": {
      "text/plain": [
       "0.3434343434343435"
      ]
     },
     "execution_count": 12,
     "metadata": {},
     "output_type": "execute_result"
    }
   ],
   "source": [
    "precision_at_5(stemmer=False)"
   ]
  },
  {
   "cell_type": "code",
   "execution_count": 13,
   "metadata": {},
   "outputs": [
    {
     "data": {
      "text/plain": [
       "0.3858585858585859"
      ]
     },
     "execution_count": 13,
     "metadata": {},
     "output_type": "execute_result"
    }
   ],
   "source": [
    "precision_at_5(stemmer=True)"
   ]
  },
  {
   "cell_type": "markdown",
   "metadata": {},
   "source": [
    "# Precision at 10"
   ]
  },
  {
   "cell_type": "code",
   "execution_count": 14,
   "metadata": {},
   "outputs": [],
   "source": [
    "def precision_at_10(stemmer):\n",
    "    queries = esperados['QueryNumber'].unique()\n",
    "    precision = []\n",
    "    for query in queries:\n",
    "        relevant_documents = esperados[esperados['QueryNumber'] == query]['DocNumber']\n",
    "        if stemmer == False:\n",
    "            best_results = result[result['QueryNumber'] == query]['DocNumber'][:10].astype(int)\n",
    "        else:\n",
    "            best_results = result_stemmer[result_stemmer['QueryNumber'] == query]['DocNumber'][:10].astype(int)\n",
    "        same_elements = np.intersect1d(relevant_documents, best_results)\n",
    "        precision.append(len(same_elements)/len(best_results))\n",
    "\n",
    "    mean_precision = np.mean(precision)\n",
    "\n",
    "    return mean_precision"
   ]
  },
  {
   "cell_type": "code",
   "execution_count": 15,
   "metadata": {},
   "outputs": [
    {
     "data": {
      "text/plain": [
       "0.28080808080808084"
      ]
     },
     "execution_count": 15,
     "metadata": {},
     "output_type": "execute_result"
    }
   ],
   "source": [
    "precision_at_10(stemmer=False)"
   ]
  },
  {
   "cell_type": "code",
   "execution_count": 16,
   "metadata": {},
   "outputs": [
    {
     "data": {
      "text/plain": [
       "0.31010101010101015"
      ]
     },
     "execution_count": 16,
     "metadata": {},
     "output_type": "execute_result"
    }
   ],
   "source": [
    "precision_at_10(stemmer=True)"
   ]
  },
  {
   "cell_type": "markdown",
   "metadata": {},
   "source": [
    "# R-Precision Histogram"
   ]
  },
  {
   "cell_type": "code",
   "execution_count": 17,
   "metadata": {},
   "outputs": [],
   "source": [
    "def r_precision_histogram():\n",
    "    queries = esperados['QueryNumber'].unique()\n",
    "    r_precision = {}\n",
    "    for query in queries:\n",
    "        relevant_documents = esperados[esperados['QueryNumber'] == query]['DocNumber']\n",
    "\n",
    "        best_results = result[result['QueryNumber'] == query]['DocNumber'][:10].astype(int)\n",
    "        best_results_stemmer = result_stemmer[result_stemmer['QueryNumber'] == query]['DocNumber'][:10].astype(int)\n",
    "\n",
    "        same_elements = np.intersect1d(relevant_documents, best_results)\n",
    "        same_elements_stemmer = np.intersect1d(relevant_documents, best_results_stemmer)\n",
    "\n",
    "        precision = len(same_elements)/len(best_results)\n",
    "        precision_stemmer = len(same_elements_stemmer)/len(best_results_stemmer)\n",
    "\n",
    "        r_precision[query] = precision - precision_stemmer\n",
    "\n",
    "    # Make histogram\n",
    "    plt.bar(r_precision.keys(), r_precision.values())\n",
    "    plt.title('Histograma de R-Precision Stemmer vs No Stemmer')\n",
    "    plt.xlabel('Query Number')\n",
    "    plt.ylabel('R-Precision No Stemmer - R-Precision Stemmer')"
   ]
  },
  {
   "cell_type": "code",
   "execution_count": 18,
   "metadata": {},
   "outputs": [
    {
     "data": {
      "image/png": "[encoded data removed]",
      "text/plain": [
       "<Figure size 640x480 with 1 Axes>"
      ]
     },
     "metadata": {},
     "output_type": "display_data"
    }
   ],
   "source": [
    "r_precision_histogram()"
   ]
  },
  {
   "cell_type": "markdown",
   "metadata": {},
   "source": [
    "# MAP"
   ]
  },
  {
   "cell_type": "code",
   "execution_count": 32,
   "metadata": {},
   "outputs": [],
   "source": [
    "def calculate_map(stemmer):\n",
    "    queries = esperados['QueryNumber'].unique()\n",
    "    overal_aps = []\n",
    "    for query in queries:\n",
    "        relevant_documents = set(esperados[esperados['QueryNumber'] == query]['DocNumber'])\n",
    "        \n",
    "        if stemmer == False:\n",
    "            best_results = result[result['QueryNumber'] == query]['DocNumber'][:10].astype(int)\n",
    "        else:\n",
    "            best_results = result_stemmer[result_stemmer['QueryNumber'] == query]['DocNumber'][:10].astype(int)\n",
    "\n",
    "        gtp = 0\n",
    "        sum_precision = 0\n",
    "        retrived_documents_until_k = 0\n",
    "        for k in range(len(best_results)):\n",
    "            if best_results.iloc[k] in relevant_documents:\n",
    "                gtp += 1\n",
    "                retrived_documents_until_k += 1\n",
    "                sum_precision += retrived_documents_until_k/(k+1)\n",
    "        if gtp != 0:\n",
    "            overal_aps.append(sum_precision/gtp)\n",
    "        else:\n",
    "            overal_aps.append(0)\n",
    "        \n",
    "    mean_ap = np.mean(overal_aps)\n",
    "    return mean_ap\n"
   ]
  },
  {
   "cell_type": "code",
   "execution_count": 33,
   "metadata": {},
   "outputs": [
    {
     "data": {
      "text/plain": [
       "0.5474229667549774"
      ]
     },
     "execution_count": 33,
     "metadata": {},
     "output_type": "execute_result"
    }
   ],
   "source": [
    "calculate_map(stemmer=False)"
   ]
  },
  {
   "cell_type": "code",
   "execution_count": 34,
   "metadata": {},
   "outputs": [
    {
     "data": {
      "text/plain": [
       "0.5906580401520878"
      ]
     },
     "execution_count": 34,
     "metadata": {},
     "output_type": "execute_result"
    }
   ],
   "source": [
    "calculate_map(stemmer=True)"
   ]
  },
  {
   "cell_type": "markdown",
   "metadata": {},
   "source": [
    "# MRR"
   ]
  },
  {
   "cell_type": "code",
   "execution_count": 22,
   "metadata": {},
   "outputs": [],
   "source": [
    "def calculate_mrr(stemmer):\n",
    "\n",
    "    queries = esperados['QueryNumber'].unique()\n",
    "    sum_mrr = 0\n",
    "    for query in queries:\n",
    "        relevant_documents = set(esperados[esperados['QueryNumber'] == query]['DocNumber'])\n",
    "            \n",
    "        if stemmer == False:\n",
    "            best_results = result[result['QueryNumber'] == query]['DocNumber'].astype(int)\n",
    "        else:\n",
    "            best_results = result_stemmer[result_stemmer['QueryNumber'] == query]['DocNumber'].astype(int)\n",
    "        \n",
    "        for doc_retrieved in best_results:\n",
    "            if doc_retrieved in relevant_documents:\n",
    "                index_doc_retrieved = best_results.tolist().index(doc_retrieved)\n",
    "                sum_mrr += 1/(index_doc_retrieved+1)\n",
    "                break\n",
    "\n",
    "    mrr = sum_mrr/len(queries)\n",
    "    return mrr\n"
   ]
  },
  {
   "cell_type": "code",
   "execution_count": 23,
   "metadata": {},
   "outputs": [
    {
     "data": {
      "text/plain": [
       "0.6371087843575882"
      ]
     },
     "execution_count": 23,
     "metadata": {},
     "output_type": "execute_result"
    }
   ],
   "source": [
    "calculate_mrr(stemmer=False)"
   ]
  },
  {
   "cell_type": "code",
   "execution_count": 24,
   "metadata": {},
   "outputs": [
    {
     "data": {
      "text/plain": [
       "0.6782335199243413"
      ]
     },
     "execution_count": 24,
     "metadata": {},
     "output_type": "execute_result"
    }
   ],
   "source": [
    "calculate_mrr(stemmer=True)"
   ]
  },
  {
   "cell_type": "markdown",
   "metadata": {},
   "source": [
    "# Discounted Cumulative Gain (médio)"
   ]
  },
  {
   "cell_type": "code",
   "execution_count": 29,
   "metadata": {},
   "outputs": [],
   "source": [
    "queries = esperados['QueryNumber'].unique()\n",
    "stemmer = False\n",
    "dcgs_from_queries = []\n",
    "for query in queries:\n",
    "    dcg = 0\n",
    "    relevant_documents = esperados[esperados['QueryNumber'] == query]['DocNumber']\n",
    "    relevant_documents_relevance = esperados[esperados['QueryNumber'] == query]['Relevance']    \n",
    "    if stemmer == False:\n",
    "        best_results = result[result['QueryNumber'] == query]['DocNumber'].astype(int)\n",
    "    else:\n",
    "        best_results = result_stemmer[result_stemmer['QueryNumber'] == query]['DocNumber'].astype(int)\n",
    "\n",
    "    for doc_retrieved in best_results:\n",
    "        if doc_retrieved in relevant_documents.values:\n",
    "            relevance = relevant_documents_relevance.iloc[relevant_documents.tolist().index(doc_retrieved)]\n",
    "            dcg += (2 ** relevance - 1)/np.log2(best_results.tolist().index(doc_retrieved) + 2)\n",
    "    dcgs_from_queries.append(dcg)\n",
    "\n",
    "mean_dcg = np.mean(dcgs_from_queries)"
   ]
  },
  {
   "cell_type": "code",
   "execution_count": 31,
   "metadata": {},
   "outputs": [
    {
     "data": {
      "text/plain": [
       "2.815054191177485"
      ]
     },
     "execution_count": 31,
     "metadata": {},
     "output_type": "execute_result"
    }
   ],
   "source": [
    "mean_dcg"
   ]
  },
  {
   "cell_type": "code",
   "execution_count": 216,
   "metadata": {},
   "outputs": [
    {
     "data": {
      "text/plain": [
       "0     7\n",
       "1     6\n",
       "2     1\n",
       "3     1\n",
       "4     2\n",
       "5     1\n",
       "6     1\n",
       "7     2\n",
       "8     7\n",
       "9     1\n",
       "10    5\n",
       "11    2\n",
       "12    1\n",
       "13    1\n",
       "14    2\n",
       "15    1\n",
       "16    3\n",
       "17    2\n",
       "18    8\n",
       "19    1\n",
       "20    1\n",
       "21    1\n",
       "22    1\n",
       "23    1\n",
       "24    1\n",
       "25    1\n",
       "26    1\n",
       "27    5\n",
       "28    1\n",
       "29    2\n",
       "30    2\n",
       "31    1\n",
       "32    1\n",
       "33    1\n",
       "Name: DocVotes, dtype: int64"
      ]
     },
     "execution_count": 216,
     "metadata": {},
     "output_type": "execute_result"
    }
   ],
   "source": [
    "relevant_documents_votes"
   ]
  }
 ],
 "metadata": {
  "kernelspec": {
   "display_name": "base",
   "language": "python",
   "name": "python3"
  },
  "language_info": {
   "codemirror_mode": {
    "name": "ipython",
    "version": 3
   },
   "file_extension": ".py",
   "mimetype": "text/x-python",
   "name": "python",
   "nbconvert_exporter": "python",
   "pygments_lexer": "ipython3",
   "version": "3.10.11"
  }
 },
 "nbformat": 4,
 "nbformat_minor": 2
}
